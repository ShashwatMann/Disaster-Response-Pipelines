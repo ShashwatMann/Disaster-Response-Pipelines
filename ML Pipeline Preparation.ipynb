{
 "cells": [
  {
   "cell_type": "markdown",
   "metadata": {},
   "source": [
    "# ML Pipeline Preparation\n",
    "Follow the instructions below to help you create your ML pipeline.\n",
    "### 1. Import libraries and load data from database.\n",
    "- Import Python libraries\n",
    "- Load dataset from database with [`read_sql_table`](https://pandas.pydata.org/pandas-docs/stable/generated/pandas.read_sql_table.html)\n",
    "- Define feature and target variables X and Y"
   ]
  },
  {
   "cell_type": "code",
   "execution_count": 1,
   "metadata": {},
   "outputs": [
    {
     "name": "stdout",
     "output_type": "stream",
     "text": [
      "[nltk_data] Downloading package punkt to /root/nltk_data...\n",
      "[nltk_data]   Unzipping tokenizers/punkt.zip.\n",
      "[nltk_data] Downloading package wordnet to /root/nltk_data...\n",
      "[nltk_data]   Unzipping corpora/wordnet.zip.\n",
      "[nltk_data] Downloading package stopwords to /root/nltk_data...\n",
      "[nltk_data]   Unzipping corpora/stopwords.zip.\n"
     ]
    }
   ],
   "source": [
    "# import libraries\n",
    "import re\n",
    "import nltk\n",
    "nltk.download(['punkt', 'wordnet', 'stopwords'])\n",
    "from nltk.corpus import stopwords\n",
    "from nltk.tokenize import word_tokenize\n",
    "from nltk.stem import WordNetLemmatizer\n",
    "import numpy as np\n",
    "import pandas as pd\n",
    "import pickle\n",
    "from sklearn.ensemble import RandomForestClassifier,AdaBoostClassifier\n",
    "from sklearn.feature_extraction.text import CountVectorizer, TfidfTransformer\n",
    "from sklearn.metrics import classification_report, accuracy_score, precision_score, recall_score, f1_score\n",
    "from sklearn.model_selection import train_test_split, GridSearchCV\n",
    "from sklearn.multioutput import MultiOutputClassifier\n",
    "from sklearn.pipeline import Pipeline\n",
    "from sklearn.tree import DecisionTreeClassifier\n",
    "from sqlalchemy import create_engine"
   ]
  },
  {
   "cell_type": "code",
   "execution_count": 2,
   "metadata": {},
   "outputs": [],
   "source": [
    "# load data from database\n",
    "engine = create_engine('sqlite:///InsertDatabaseName.db')\n",
    "df = pd.read_sql_table('InsertTableName', con=engine)\n",
    "\n",
    "categories = df.columns[4:]\n",
    "\n",
    "X = df[['message']].values[:, 0]\n",
    "y = df[categories].values"
   ]
  },
  {
   "cell_type": "markdown",
   "metadata": {},
   "source": [
    "### 2. Write a tokenization function to process your text data"
   ]
  },
  {
   "cell_type": "code",
   "execution_count": 3,
   "metadata": {},
   "outputs": [],
   "source": [
    "url_regex = 'http[s]?://(?:[a-zA-Z]|[0-9]|[$-_@.&+]|[!*\\(\\),]|(?:%[0-9a-fA-F][0-9a-fA-F]))+'\n",
    "\n",
    "def tokenize(text, lemmatizer=WordNetLemmatizer()):\n",
    "    # Detecte URLs\n",
    "    detected_urls = re.findall(url_regex, text)\n",
    "    for url in detected_urls:\n",
    "        text = text.replace(url, 'urlplaceholder')\n",
    "    \n",
    "    # Normalize and tokenize\n",
    "    tokens = nltk.word_tokenize(re.sub(r\"[^a-zA-Z0-9]\", \" \", text.lower()))\n",
    "    \n",
    "    # Remove stopwords\n",
    "    tokens = [t for t in tokens if t not in stopwords.words('english')]\n",
    "\n",
    "    # Lemmatize\n",
    "    tokens = [lemmatizer.lemmatize(t) for t in tokens]\n",
    "    \n",
    "    return tokens"
   ]
  },
  {
   "cell_type": "markdown",
   "metadata": {},
   "source": [
    "### 3. Build a machine learning pipeline\n",
    "- You'll find the [MultiOutputClassifier](http://scikit-learn.org/stable/modules/generated/sklearn.multioutput.MultiOutputClassifier.html) helpful for predicting multiple target variables."
   ]
  },
  {
   "cell_type": "code",
   "execution_count": 4,
   "metadata": {},
   "outputs": [],
   "source": [
    "pipeline = Pipeline([\n",
    "    ('vect', CountVectorizer(tokenizer=tokenize)),\n",
    "    ('tfidf', TfidfTransformer()),\n",
    "    ('clf', MultiOutputClassifier(RandomForestClassifier(class_weight='balanced')))\n",
    "])"
   ]
  },
  {
   "cell_type": "markdown",
   "metadata": {},
   "source": [
    "### 4. Train pipeline\n",
    "- Split data into train and test sets\n",
    "- Train pipeline"
   ]
  },
  {
   "cell_type": "code",
   "execution_count": 5,
   "metadata": {},
   "outputs": [],
   "source": [
    "X_train, X_test, y_train, y_test = train_test_split(X, y)"
   ]
  },
  {
   "cell_type": "code",
   "execution_count": 6,
   "metadata": {},
   "outputs": [
    {
     "data": {
      "text/plain": [
       "Pipeline(memory=None,\n",
       "     steps=[('vect', CountVectorizer(analyzer='word', binary=False, decode_error='strict',\n",
       "        dtype=<class 'numpy.int64'>, encoding='utf-8', input='content',\n",
       "        lowercase=True, max_df=1.0, max_features=None, min_df=1,\n",
       "        ngram_range=(1, 1), preprocessor=None, stop_words=None,\n",
       "        strip...oob_score=False, random_state=None,\n",
       "            verbose=0, warm_start=False),\n",
       "           n_jobs=1))])"
      ]
     },
     "execution_count": 6,
     "metadata": {},
     "output_type": "execute_result"
    }
   ],
   "source": [
    "pipeline.fit(X_train, y_train)"
   ]
  },
  {
   "cell_type": "markdown",
   "metadata": {},
   "source": [
    "### 5. Test your model\n",
    "Report the f1 score, precision and recall on both the training set and the test set. You can use sklearn's `classification_report` function here. "
   ]
  },
  {
   "cell_type": "code",
   "execution_count": 7,
   "metadata": {
    "scrolled": false
   },
   "outputs": [],
   "source": [
    "def multioutput_classification_report(y_true, y_pred):\n",
    "    for i in range(0, len(categories)):\n",
    "        print(categories[i])\n",
    "        print(\"\\tAccuracy: {:.4f}\\t\\t% Precision: {:.4f}\\t\\t% Recall: {:.4f}\\t\\t% F1_score: {:.4f}\".format(\n",
    "            accuracy_score(y_true[:, i], y_pred[:, i]),\n",
    "            precision_score(y_true[:, i], y_pred[:, i], average='weighted'),\n",
    "            recall_score(y_true[:, i], y_pred[:, i], average='weighted'),\n",
    "            f1_score(y_true[:, i], y_pred[:, i], average='weighted')\n",
    "        ))\n",
    "        #print(classification_report(y_true[:, i], y_pred[:, i]))\n",
    "        #print(\"--------------------------------------------------\")"
   ]
  },
  {
   "cell_type": "code",
   "execution_count": 8,
   "metadata": {},
   "outputs": [],
   "source": [
    "y_pred = pipeline.predict(X_train)"
   ]
  },
  {
   "cell_type": "code",
   "execution_count": 9,
   "metadata": {
    "scrolled": false
   },
   "outputs": [
    {
     "name": "stdout",
     "output_type": "stream",
     "text": [
      "related\n",
      "\tAccuracy: 0.9905\t\t% Precision: 0.9905\t\t% Recall: 0.9905\t\t% F1_score: 0.9905\n",
      "request\n",
      "\tAccuracy: 0.9889\t\t% Precision: 0.9890\t\t% Recall: 0.9889\t\t% F1_score: 0.9888\n",
      "offer\n",
      "\tAccuracy: 0.9987\t\t% Precision: 0.9987\t\t% Recall: 0.9987\t\t% F1_score: 0.9986\n",
      "aid_related\n",
      "\tAccuracy: 0.9869\t\t% Precision: 0.9870\t\t% Recall: 0.9869\t\t% F1_score: 0.9869\n",
      "medical_help\n",
      "\tAccuracy: 0.9883\t\t% Precision: 0.9884\t\t% Recall: 0.9883\t\t% F1_score: 0.9879\n",
      "medical_products\n",
      "\tAccuracy: 0.9925\t\t% Precision: 0.9925\t\t% Recall: 0.9925\t\t% F1_score: 0.9922\n",
      "search_and_rescue\n",
      "\tAccuracy: 0.9931\t\t% Precision: 0.9932\t\t% Recall: 0.9931\t\t% F1_score: 0.9927\n",
      "security\n",
      "\tAccuracy: 0.9943\t\t% Precision: 0.9943\t\t% Recall: 0.9943\t\t% F1_score: 0.9938\n",
      "military\n",
      "\tAccuracy: 0.9958\t\t% Precision: 0.9958\t\t% Recall: 0.9958\t\t% F1_score: 0.9957\n",
      "child_alone\n",
      "\tAccuracy: 1.0000\t\t% Precision: 1.0000\t\t% Recall: 1.0000\t\t% F1_score: 1.0000\n",
      "water\n",
      "\tAccuracy: 0.9945\t\t% Precision: 0.9945\t\t% Recall: 0.9945\t\t% F1_score: 0.9943\n",
      "food\n",
      "\tAccuracy: 0.9946\t\t% Precision: 0.9946\t\t% Recall: 0.9946\t\t% F1_score: 0.9945\n",
      "shelter\n",
      "\tAccuracy: 0.9937\t\t% Precision: 0.9938\t\t% Recall: 0.9937\t\t% F1_score: 0.9936\n",
      "clothing\n",
      "\tAccuracy: 0.9975\t\t% Precision: 0.9975\t\t% Recall: 0.9975\t\t% F1_score: 0.9973\n",
      "money\n",
      "\tAccuracy: 0.9953\t\t% Precision: 0.9953\t\t% Recall: 0.9953\t\t% F1_score: 0.9951\n",
      "missing_people\n",
      "\tAccuracy: 0.9969\t\t% Precision: 0.9969\t\t% Recall: 0.9969\t\t% F1_score: 0.9967\n",
      "refugees\n",
      "\tAccuracy: 0.9935\t\t% Precision: 0.9935\t\t% Recall: 0.9935\t\t% F1_score: 0.9932\n",
      "death\n",
      "\tAccuracy: 0.9943\t\t% Precision: 0.9943\t\t% Recall: 0.9943\t\t% F1_score: 0.9941\n",
      "other_aid\n",
      "\tAccuracy: 0.9807\t\t% Precision: 0.9809\t\t% Recall: 0.9807\t\t% F1_score: 0.9801\n",
      "infrastructure_related\n",
      "\tAccuracy: 0.9865\t\t% Precision: 0.9866\t\t% Recall: 0.9865\t\t% F1_score: 0.9858\n",
      "transport\n",
      "\tAccuracy: 0.9904\t\t% Precision: 0.9904\t\t% Recall: 0.9904\t\t% F1_score: 0.9899\n",
      "buildings\n",
      "\tAccuracy: 0.9939\t\t% Precision: 0.9940\t\t% Recall: 0.9939\t\t% F1_score: 0.9938\n",
      "electricity\n",
      "\tAccuracy: 0.9967\t\t% Precision: 0.9968\t\t% Recall: 0.9967\t\t% F1_score: 0.9966\n",
      "tools\n",
      "\tAccuracy: 0.9986\t\t% Precision: 0.9986\t\t% Recall: 0.9986\t\t% F1_score: 0.9985\n",
      "hospitals\n",
      "\tAccuracy: 0.9979\t\t% Precision: 0.9979\t\t% Recall: 0.9979\t\t% F1_score: 0.9978\n",
      "shops\n",
      "\tAccuracy: 0.9986\t\t% Precision: 0.9986\t\t% Recall: 0.9986\t\t% F1_score: 0.9985\n",
      "aid_centers\n",
      "\tAccuracy: 0.9970\t\t% Precision: 0.9970\t\t% Recall: 0.9970\t\t% F1_score: 0.9969\n",
      "other_infrastructure\n",
      "\tAccuracy: 0.9905\t\t% Precision: 0.9905\t\t% Recall: 0.9905\t\t% F1_score: 0.9899\n",
      "weather_related\n",
      "\tAccuracy: 0.9884\t\t% Precision: 0.9884\t\t% Recall: 0.9884\t\t% F1_score: 0.9883\n",
      "floods\n",
      "\tAccuracy: 0.9913\t\t% Precision: 0.9913\t\t% Recall: 0.9913\t\t% F1_score: 0.9910\n",
      "storm\n",
      "\tAccuracy: 0.9941\t\t% Precision: 0.9941\t\t% Recall: 0.9941\t\t% F1_score: 0.9940\n",
      "fire\n",
      "\tAccuracy: 0.9983\t\t% Precision: 0.9983\t\t% Recall: 0.9983\t\t% F1_score: 0.9982\n",
      "earthquake\n",
      "\tAccuracy: 0.9947\t\t% Precision: 0.9947\t\t% Recall: 0.9947\t\t% F1_score: 0.9947\n",
      "cold\n",
      "\tAccuracy: 0.9960\t\t% Precision: 0.9960\t\t% Recall: 0.9960\t\t% F1_score: 0.9958\n",
      "other_weather\n",
      "\tAccuracy: 0.9900\t\t% Precision: 0.9900\t\t% Recall: 0.9900\t\t% F1_score: 0.9895\n",
      "direct_report\n",
      "\tAccuracy: 0.9849\t\t% Precision: 0.9851\t\t% Recall: 0.9849\t\t% F1_score: 0.9847\n"
     ]
    }
   ],
   "source": [
    "multioutput_classification_report(y_train, y_pred)"
   ]
  },
  {
   "cell_type": "code",
   "execution_count": 10,
   "metadata": {},
   "outputs": [],
   "source": [
    "y_pred = pipeline.predict(X_test)"
   ]
  },
  {
   "cell_type": "code",
   "execution_count": 11,
   "metadata": {
    "scrolled": false
   },
   "outputs": [
    {
     "name": "stdout",
     "output_type": "stream",
     "text": [
      "related\n",
      "\tAccuracy: 0.8116\t\t% Precision: 0.8004\t\t% Recall: 0.8116\t\t% F1_score: 0.8038\n",
      "request\n",
      "\tAccuracy: 0.8819\t\t% Precision: 0.8717\t\t% Recall: 0.8819\t\t% F1_score: 0.8706\n",
      "offer\n",
      "\tAccuracy: 0.9960\t\t% Precision: 0.9921\t\t% Recall: 0.9960\t\t% F1_score: 0.9941\n",
      "aid_related\n",
      "\tAccuracy: 0.7469\t\t% Precision: 0.7466\t\t% Recall: 0.7469\t\t% F1_score: 0.7417\n",
      "medical_help\n",
      "\tAccuracy: 0.9246\t\t% Precision: 0.9002\t\t% Recall: 0.9246\t\t% F1_score: 0.8968\n",
      "medical_products\n",
      "\tAccuracy: 0.9498\t\t% Precision: 0.9336\t\t% Recall: 0.9498\t\t% F1_score: 0.9285\n",
      "search_and_rescue\n",
      "\tAccuracy: 0.9756\t\t% Precision: 0.9641\t\t% Recall: 0.9756\t\t% F1_score: 0.9638\n",
      "security\n",
      "\tAccuracy: 0.9838\t\t% Precision: 0.9688\t\t% Recall: 0.9838\t\t% F1_score: 0.9763\n",
      "military\n",
      "\tAccuracy: 0.9695\t\t% Precision: 0.9583\t\t% Recall: 0.9695\t\t% F1_score: 0.9575\n",
      "child_alone\n",
      "\tAccuracy: 1.0000\t\t% Precision: 1.0000\t\t% Recall: 1.0000\t\t% F1_score: 1.0000\n",
      "water\n",
      "\tAccuracy: 0.9512\t\t% Precision: 0.9472\t\t% Recall: 0.9512\t\t% F1_score: 0.9378\n",
      "food\n",
      "\tAccuracy: 0.9291\t\t% Precision: 0.9240\t\t% Recall: 0.9291\t\t% F1_score: 0.9191\n",
      "shelter\n",
      "\tAccuracy: 0.9243\t\t% Precision: 0.9143\t\t% Recall: 0.9243\t\t% F1_score: 0.9050\n",
      "clothing\n",
      "\tAccuracy: 0.9843\t\t% Precision: 0.9796\t\t% Recall: 0.9843\t\t% F1_score: 0.9777\n",
      "money\n",
      "\tAccuracy: 0.9776\t\t% Precision: 0.9635\t\t% Recall: 0.9776\t\t% F1_score: 0.9669\n",
      "missing_people\n",
      "\tAccuracy: 0.9889\t\t% Precision: 0.9778\t\t% Recall: 0.9889\t\t% F1_score: 0.9833\n",
      "refugees\n",
      "\tAccuracy: 0.9637\t\t% Precision: 0.9517\t\t% Recall: 0.9637\t\t% F1_score: 0.9470\n",
      "death\n",
      "\tAccuracy: 0.9548\t\t% Precision: 0.9511\t\t% Recall: 0.9548\t\t% F1_score: 0.9383\n",
      "other_aid\n",
      "\tAccuracy: 0.8659\t\t% Precision: 0.8285\t\t% Recall: 0.8659\t\t% F1_score: 0.8187\n",
      "infrastructure_related\n",
      "\tAccuracy: 0.9303\t\t% Precision: 0.8801\t\t% Recall: 0.9303\t\t% F1_score: 0.8983\n",
      "transport\n",
      "\tAccuracy: 0.9573\t\t% Precision: 0.9387\t\t% Recall: 0.9573\t\t% F1_score: 0.9384\n",
      "buildings\n",
      "\tAccuracy: 0.9522\t\t% Precision: 0.9465\t\t% Recall: 0.9522\t\t% F1_score: 0.9334\n",
      "electricity\n",
      "\tAccuracy: 0.9786\t\t% Precision: 0.9687\t\t% Recall: 0.9786\t\t% F1_score: 0.9687\n",
      "tools\n",
      "\tAccuracy: 0.9947\t\t% Precision: 0.9893\t\t% Recall: 0.9947\t\t% F1_score: 0.9920\n",
      "hospitals\n",
      "\tAccuracy: 0.9896\t\t% Precision: 0.9794\t\t% Recall: 0.9896\t\t% F1_score: 0.9845\n",
      "shops\n",
      "\tAccuracy: 0.9960\t\t% Precision: 0.9921\t\t% Recall: 0.9960\t\t% F1_score: 0.9941\n",
      "aid_centers\n",
      "\tAccuracy: 0.9863\t\t% Precision: 0.9736\t\t% Recall: 0.9863\t\t% F1_score: 0.9799\n",
      "other_infrastructure\n",
      "\tAccuracy: 0.9535\t\t% Precision: 0.9099\t\t% Recall: 0.9535\t\t% F1_score: 0.9312\n",
      "weather_related\n",
      "\tAccuracy: 0.8579\t\t% Precision: 0.8553\t\t% Recall: 0.8579\t\t% F1_score: 0.8506\n",
      "floods\n",
      "\tAccuracy: 0.9362\t\t% Precision: 0.9304\t\t% Recall: 0.9362\t\t% F1_score: 0.9220\n",
      "storm\n",
      "\tAccuracy: 0.9310\t\t% Precision: 0.9222\t\t% Recall: 0.9310\t\t% F1_score: 0.9217\n",
      "fire\n",
      "\tAccuracy: 0.9881\t\t% Precision: 0.9845\t\t% Recall: 0.9881\t\t% F1_score: 0.9830\n",
      "earthquake\n",
      "\tAccuracy: 0.9649\t\t% Precision: 0.9635\t\t% Recall: 0.9649\t\t% F1_score: 0.9628\n",
      "cold\n",
      "\tAccuracy: 0.9792\t\t% Precision: 0.9666\t\t% Recall: 0.9792\t\t% F1_score: 0.9704\n",
      "other_weather\n",
      "\tAccuracy: 0.9498\t\t% Precision: 0.9382\t\t% Recall: 0.9498\t\t% F1_score: 0.9273\n",
      "direct_report\n",
      "\tAccuracy: 0.8523\t\t% Precision: 0.8380\t\t% Recall: 0.8523\t\t% F1_score: 0.8345\n"
     ]
    },
    {
     "name": "stderr",
     "output_type": "stream",
     "text": [
      "/opt/conda/lib/python3.6/site-packages/sklearn/metrics/classification.py:1135: UndefinedMetricWarning: Precision is ill-defined and being set to 0.0 in labels with no predicted samples.\n",
      "  'precision', 'predicted', average, warn_for)\n",
      "/opt/conda/lib/python3.6/site-packages/sklearn/metrics/classification.py:1135: UndefinedMetricWarning: F-score is ill-defined and being set to 0.0 in labels with no predicted samples.\n",
      "  'precision', 'predicted', average, warn_for)\n"
     ]
    }
   ],
   "source": [
    "multioutput_classification_report(y_test, y_pred)"
   ]
  },
  {
   "cell_type": "markdown",
   "metadata": {},
   "source": [
    "### 6. Improve your model\n",
    "Use grid search to find better parameters. "
   ]
  },
  {
   "cell_type": "code",
   "execution_count": 12,
   "metadata": {},
   "outputs": [],
   "source": [
    "parameters = {\n",
    "    'clf__estimator__n_estimators': [20, 50]\n",
    "}\n",
    "\n",
    "cv = GridSearchCV(estimator=pipeline, param_grid=parameters, cv=3, scoring='f1_weighted', verbose=3)"
   ]
  },
  {
   "cell_type": "code",
   "execution_count": 13,
   "metadata": {
    "scrolled": false
   },
   "outputs": [
    {
     "name": "stdout",
     "output_type": "stream",
     "text": [
      "Fitting 3 folds for each of 2 candidates, totalling 6 fits\n",
      "[CV] clf__estimator__n_estimators=20 .................................\n"
     ]
    },
    {
     "name": "stderr",
     "output_type": "stream",
     "text": [
      "/opt/conda/lib/python3.6/site-packages/sklearn/metrics/classification.py:1135: UndefinedMetricWarning: F-score is ill-defined and being set to 0.0 in labels with no predicted samples.\n",
      "  'precision', 'predicted', average, warn_for)\n",
      "/opt/conda/lib/python3.6/site-packages/sklearn/metrics/classification.py:1137: UndefinedMetricWarning: F-score is ill-defined and being set to 0.0 in labels with no true samples.\n",
      "  'recall', 'true', average, warn_for)\n"
     ]
    },
    {
     "name": "stdout",
     "output_type": "stream",
     "text": [
      "[CV]  clf__estimator__n_estimators=20, score=0.5462536138753139, total= 3.5min\n",
      "[CV] clf__estimator__n_estimators=20 .................................\n"
     ]
    },
    {
     "name": "stderr",
     "output_type": "stream",
     "text": [
      "[Parallel(n_jobs=1)]: Done   1 out of   1 | elapsed:  4.8min remaining:    0.0s\n",
      "/opt/conda/lib/python3.6/site-packages/sklearn/metrics/classification.py:1135: UndefinedMetricWarning: F-score is ill-defined and being set to 0.0 in labels with no predicted samples.\n",
      "  'precision', 'predicted', average, warn_for)\n",
      "/opt/conda/lib/python3.6/site-packages/sklearn/metrics/classification.py:1137: UndefinedMetricWarning: F-score is ill-defined and being set to 0.0 in labels with no true samples.\n",
      "  'recall', 'true', average, warn_for)\n"
     ]
    },
    {
     "name": "stdout",
     "output_type": "stream",
     "text": [
      "[CV]  clf__estimator__n_estimators=20, score=0.5287765354169653, total= 3.5min\n",
      "[CV] clf__estimator__n_estimators=20 .................................\n"
     ]
    },
    {
     "name": "stderr",
     "output_type": "stream",
     "text": [
      "[Parallel(n_jobs=1)]: Done   2 out of   2 | elapsed:  9.6min remaining:    0.0s\n",
      "/opt/conda/lib/python3.6/site-packages/sklearn/metrics/classification.py:1135: UndefinedMetricWarning: F-score is ill-defined and being set to 0.0 in labels with no predicted samples.\n",
      "  'precision', 'predicted', average, warn_for)\n",
      "/opt/conda/lib/python3.6/site-packages/sklearn/metrics/classification.py:1137: UndefinedMetricWarning: F-score is ill-defined and being set to 0.0 in labels with no true samples.\n",
      "  'recall', 'true', average, warn_for)\n"
     ]
    },
    {
     "name": "stdout",
     "output_type": "stream",
     "text": [
      "[CV]  clf__estimator__n_estimators=20, score=0.5421465294975419, total= 3.5min\n",
      "[CV] clf__estimator__n_estimators=50 .................................\n"
     ]
    },
    {
     "name": "stderr",
     "output_type": "stream",
     "text": [
      "/opt/conda/lib/python3.6/site-packages/sklearn/metrics/classification.py:1135: UndefinedMetricWarning: F-score is ill-defined and being set to 0.0 in labels with no predicted samples.\n",
      "  'precision', 'predicted', average, warn_for)\n",
      "/opt/conda/lib/python3.6/site-packages/sklearn/metrics/classification.py:1137: UndefinedMetricWarning: F-score is ill-defined and being set to 0.0 in labels with no true samples.\n",
      "  'recall', 'true', average, warn_for)\n"
     ]
    },
    {
     "name": "stdout",
     "output_type": "stream",
     "text": [
      "[CV]  clf__estimator__n_estimators=50, score=0.5541616312663988, total= 6.1min\n",
      "[CV] clf__estimator__n_estimators=50 .................................\n"
     ]
    },
    {
     "name": "stderr",
     "output_type": "stream",
     "text": [
      "/opt/conda/lib/python3.6/site-packages/sklearn/metrics/classification.py:1135: UndefinedMetricWarning: F-score is ill-defined and being set to 0.0 in labels with no predicted samples.\n",
      "  'precision', 'predicted', average, warn_for)\n",
      "/opt/conda/lib/python3.6/site-packages/sklearn/metrics/classification.py:1137: UndefinedMetricWarning: F-score is ill-defined and being set to 0.0 in labels with no true samples.\n",
      "  'recall', 'true', average, warn_for)\n"
     ]
    },
    {
     "name": "stdout",
     "output_type": "stream",
     "text": [
      "[CV]  clf__estimator__n_estimators=50, score=0.5420472461086017, total= 6.0min\n",
      "[CV] clf__estimator__n_estimators=50 .................................\n"
     ]
    },
    {
     "name": "stderr",
     "output_type": "stream",
     "text": [
      "/opt/conda/lib/python3.6/site-packages/sklearn/metrics/classification.py:1135: UndefinedMetricWarning: F-score is ill-defined and being set to 0.0 in labels with no predicted samples.\n",
      "  'precision', 'predicted', average, warn_for)\n",
      "/opt/conda/lib/python3.6/site-packages/sklearn/metrics/classification.py:1137: UndefinedMetricWarning: F-score is ill-defined and being set to 0.0 in labels with no true samples.\n",
      "  'recall', 'true', average, warn_for)\n"
     ]
    },
    {
     "name": "stdout",
     "output_type": "stream",
     "text": [
      "[CV]  clf__estimator__n_estimators=50, score=0.5464319248841025, total= 6.1min\n"
     ]
    },
    {
     "name": "stderr",
     "output_type": "stream",
     "text": [
      "[Parallel(n_jobs=1)]: Done   6 out of   6 | elapsed: 36.6min finished\n"
     ]
    },
    {
     "data": {
      "text/plain": [
       "GridSearchCV(cv=3, error_score='raise',\n",
       "       estimator=Pipeline(memory=None,\n",
       "     steps=[('vect', CountVectorizer(analyzer='word', binary=False, decode_error='strict',\n",
       "        dtype=<class 'numpy.int64'>, encoding='utf-8', input='content',\n",
       "        lowercase=True, max_df=1.0, max_features=None, min_df=1,\n",
       "        ngram_range=(1, 1), preprocessor=None, stop_words=None,\n",
       "        strip...oob_score=False, random_state=None,\n",
       "            verbose=0, warm_start=False),\n",
       "           n_jobs=1))]),\n",
       "       fit_params=None, iid=True, n_jobs=1,\n",
       "       param_grid={'clf__estimator__n_estimators': [20, 50]},\n",
       "       pre_dispatch='2*n_jobs', refit=True, return_train_score='warn',\n",
       "       scoring='f1_weighted', verbose=3)"
      ]
     },
     "execution_count": 13,
     "metadata": {},
     "output_type": "execute_result"
    }
   ],
   "source": [
    "cv.fit(X_train, y_train)"
   ]
  },
  {
   "cell_type": "markdown",
   "metadata": {},
   "source": [
    "### 7. Test your model\n",
    "Show the accuracy, precision, and recall of the tuned model."
   ]
  },
  {
   "cell_type": "code",
   "execution_count": 14,
   "metadata": {},
   "outputs": [],
   "source": [
    "y_pred = cv.predict(X_train)"
   ]
  },
  {
   "cell_type": "code",
   "execution_count": 15,
   "metadata": {},
   "outputs": [
    {
     "name": "stdout",
     "output_type": "stream",
     "text": [
      "related\n",
      "\tAccuracy: 0.9980\t\t% Precision: 0.9980\t\t% Recall: 0.9980\t\t% F1_score: 0.9980\n",
      "request\n",
      "\tAccuracy: 0.9990\t\t% Precision: 0.9990\t\t% Recall: 0.9990\t\t% F1_score: 0.9990\n",
      "offer\n",
      "\tAccuracy: 0.9999\t\t% Precision: 0.9999\t\t% Recall: 0.9999\t\t% F1_score: 0.9999\n",
      "aid_related\n",
      "\tAccuracy: 0.9990\t\t% Precision: 0.9990\t\t% Recall: 0.9990\t\t% F1_score: 0.9990\n",
      "medical_help\n",
      "\tAccuracy: 0.9989\t\t% Precision: 0.9989\t\t% Recall: 0.9989\t\t% F1_score: 0.9989\n",
      "medical_products\n",
      "\tAccuracy: 0.9993\t\t% Precision: 0.9993\t\t% Recall: 0.9993\t\t% F1_score: 0.9993\n",
      "search_and_rescue\n",
      "\tAccuracy: 0.9996\t\t% Precision: 0.9996\t\t% Recall: 0.9996\t\t% F1_score: 0.9996\n",
      "security\n",
      "\tAccuracy: 0.9995\t\t% Precision: 0.9995\t\t% Recall: 0.9995\t\t% F1_score: 0.9995\n",
      "military\n",
      "\tAccuracy: 0.9993\t\t% Precision: 0.9993\t\t% Recall: 0.9993\t\t% F1_score: 0.9993\n",
      "child_alone\n",
      "\tAccuracy: 1.0000\t\t% Precision: 1.0000\t\t% Recall: 1.0000\t\t% F1_score: 1.0000\n",
      "water\n",
      "\tAccuracy: 0.9999\t\t% Precision: 0.9999\t\t% Recall: 0.9999\t\t% F1_score: 0.9999\n",
      "food\n",
      "\tAccuracy: 0.9997\t\t% Precision: 0.9997\t\t% Recall: 0.9997\t\t% F1_score: 0.9997\n",
      "shelter\n",
      "\tAccuracy: 0.9996\t\t% Precision: 0.9996\t\t% Recall: 0.9996\t\t% F1_score: 0.9996\n",
      "clothing\n",
      "\tAccuracy: 0.9998\t\t% Precision: 0.9998\t\t% Recall: 0.9998\t\t% F1_score: 0.9998\n",
      "money\n",
      "\tAccuracy: 0.9995\t\t% Precision: 0.9995\t\t% Recall: 0.9995\t\t% F1_score: 0.9995\n",
      "missing_people\n",
      "\tAccuracy: 0.9997\t\t% Precision: 0.9997\t\t% Recall: 0.9997\t\t% F1_score: 0.9997\n",
      "refugees\n",
      "\tAccuracy: 0.9993\t\t% Precision: 0.9993\t\t% Recall: 0.9993\t\t% F1_score: 0.9993\n",
      "death\n",
      "\tAccuracy: 0.9997\t\t% Precision: 0.9997\t\t% Recall: 0.9997\t\t% F1_score: 0.9997\n",
      "other_aid\n",
      "\tAccuracy: 0.9984\t\t% Precision: 0.9984\t\t% Recall: 0.9984\t\t% F1_score: 0.9984\n",
      "infrastructure_related\n",
      "\tAccuracy: 0.9986\t\t% Precision: 0.9986\t\t% Recall: 0.9986\t\t% F1_score: 0.9986\n",
      "transport\n",
      "\tAccuracy: 0.9987\t\t% Precision: 0.9987\t\t% Recall: 0.9987\t\t% F1_score: 0.9987\n",
      "buildings\n",
      "\tAccuracy: 0.9995\t\t% Precision: 0.9995\t\t% Recall: 0.9995\t\t% F1_score: 0.9995\n",
      "electricity\n",
      "\tAccuracy: 0.9998\t\t% Precision: 0.9998\t\t% Recall: 0.9998\t\t% F1_score: 0.9998\n",
      "tools\n",
      "\tAccuracy: 0.9999\t\t% Precision: 0.9999\t\t% Recall: 0.9999\t\t% F1_score: 0.9999\n",
      "hospitals\n",
      "\tAccuracy: 0.9998\t\t% Precision: 0.9998\t\t% Recall: 0.9998\t\t% F1_score: 0.9998\n",
      "shops\n",
      "\tAccuracy: 1.0000\t\t% Precision: 1.0000\t\t% Recall: 1.0000\t\t% F1_score: 1.0000\n",
      "aid_centers\n",
      "\tAccuracy: 0.9995\t\t% Precision: 0.9995\t\t% Recall: 0.9995\t\t% F1_score: 0.9995\n",
      "other_infrastructure\n",
      "\tAccuracy: 0.9991\t\t% Precision: 0.9991\t\t% Recall: 0.9991\t\t% F1_score: 0.9991\n",
      "weather_related\n",
      "\tAccuracy: 0.9992\t\t% Precision: 0.9992\t\t% Recall: 0.9992\t\t% F1_score: 0.9992\n",
      "floods\n",
      "\tAccuracy: 0.9991\t\t% Precision: 0.9991\t\t% Recall: 0.9991\t\t% F1_score: 0.9991\n",
      "storm\n",
      "\tAccuracy: 0.9995\t\t% Precision: 0.9995\t\t% Recall: 0.9995\t\t% F1_score: 0.9995\n",
      "fire\n",
      "\tAccuracy: 0.9998\t\t% Precision: 0.9998\t\t% Recall: 0.9998\t\t% F1_score: 0.9998\n",
      "earthquake\n",
      "\tAccuracy: 0.9995\t\t% Precision: 0.9995\t\t% Recall: 0.9995\t\t% F1_score: 0.9995\n",
      "cold\n",
      "\tAccuracy: 0.9998\t\t% Precision: 0.9998\t\t% Recall: 0.9998\t\t% F1_score: 0.9998\n",
      "other_weather\n",
      "\tAccuracy: 0.9993\t\t% Precision: 0.9993\t\t% Recall: 0.9993\t\t% F1_score: 0.9993\n",
      "direct_report\n",
      "\tAccuracy: 0.9988\t\t% Precision: 0.9988\t\t% Recall: 0.9988\t\t% F1_score: 0.9988\n"
     ]
    }
   ],
   "source": [
    "multioutput_classification_report(y_train, y_pred)"
   ]
  },
  {
   "cell_type": "code",
   "execution_count": 16,
   "metadata": {},
   "outputs": [],
   "source": [
    "y_pred = cv.predict(X_test)"
   ]
  },
  {
   "cell_type": "code",
   "execution_count": 17,
   "metadata": {},
   "outputs": [
    {
     "name": "stdout",
     "output_type": "stream",
     "text": [
      "related\n",
      "\tAccuracy: 0.8251\t\t% Precision: 0.8124\t\t% Recall: 0.8251\t\t% F1_score: 0.8127\n",
      "request\n",
      "\tAccuracy: 0.8993\t\t% Precision: 0.8931\t\t% Recall: 0.8993\t\t% F1_score: 0.8907\n",
      "offer\n",
      "\tAccuracy: 0.9960\t\t% Precision: 0.9921\t\t% Recall: 0.9960\t\t% F1_score: 0.9941\n",
      "aid_related\n",
      "\tAccuracy: 0.7731\t\t% Precision: 0.7720\t\t% Recall: 0.7731\t\t% F1_score: 0.7722\n",
      "medical_help\n",
      "\tAccuracy: 0.9268\t\t% Precision: 0.9143\t\t% Recall: 0.9268\t\t% F1_score: 0.8974\n",
      "medical_products\n",
      "\tAccuracy: 0.9515\t\t% Precision: 0.9422\t\t% Recall: 0.9515\t\t% F1_score: 0.9320\n",
      "search_and_rescue\n",
      "\tAccuracy: 0.9765\t\t% Precision: 0.9741\t\t% Recall: 0.9765\t\t% F1_score: 0.9660\n",
      "security\n",
      "\tAccuracy: 0.9840\t\t% Precision: 0.9688\t\t% Recall: 0.9840\t\t% F1_score: 0.9763\n",
      "military\n",
      "\tAccuracy: 0.9693\t\t% Precision: 0.9576\t\t% Recall: 0.9693\t\t% F1_score: 0.9567\n",
      "child_alone\n",
      "\tAccuracy: 1.0000\t\t% Precision: 1.0000\t\t% Recall: 1.0000\t\t% F1_score: 1.0000\n",
      "water\n",
      "\tAccuracy: 0.9536\t\t% Precision: 0.9482\t\t% Recall: 0.9536\t\t% F1_score: 0.9436\n",
      "food\n",
      "\tAccuracy: 0.9355\t\t% Precision: 0.9310\t\t% Recall: 0.9355\t\t% F1_score: 0.9286\n",
      "shelter\n",
      "\tAccuracy: 0.9249\t\t% Precision: 0.9174\t\t% Recall: 0.9249\t\t% F1_score: 0.9044\n",
      "clothing\n",
      "\tAccuracy: 0.9841\t\t% Precision: 0.9785\t\t% Recall: 0.9841\t\t% F1_score: 0.9776\n",
      "money\n",
      "\tAccuracy: 0.9774\t\t% Precision: 0.9559\t\t% Recall: 0.9774\t\t% F1_score: 0.9666\n",
      "missing_people\n",
      "\tAccuracy: 0.9887\t\t% Precision: 0.9778\t\t% Recall: 0.9887\t\t% F1_score: 0.9832\n",
      "refugees\n",
      "\tAccuracy: 0.9634\t\t% Precision: 0.9281\t\t% Recall: 0.9634\t\t% F1_score: 0.9454\n",
      "death\n",
      "\tAccuracy: 0.9521\t\t% Precision: 0.9479\t\t% Recall: 0.9521\t\t% F1_score: 0.9317\n",
      "other_aid\n",
      "\tAccuracy: 0.8671\t\t% Precision: 0.8364\t\t% Recall: 0.8671\t\t% F1_score: 0.8169\n",
      "infrastructure_related\n",
      "\tAccuracy: 0.9303\t\t% Precision: 0.8673\t\t% Recall: 0.9303\t\t% F1_score: 0.8977\n",
      "transport\n",
      "\tAccuracy: 0.9594\t\t% Precision: 0.9503\t\t% Recall: 0.9594\t\t% F1_score: 0.9437\n",
      "buildings\n",
      "\tAccuracy: 0.9513\t\t% Precision: 0.9412\t\t% Recall: 0.9513\t\t% F1_score: 0.9324\n",
      "electricity\n",
      "\tAccuracy: 0.9792\t\t% Precision: 0.9797\t\t% Recall: 0.9792\t\t% F1_score: 0.9696\n",
      "tools\n",
      "\tAccuracy: 0.9947\t\t% Precision: 0.9893\t\t% Recall: 0.9947\t\t% F1_score: 0.9920\n",
      "hospitals\n",
      "\tAccuracy: 0.9896\t\t% Precision: 0.9794\t\t% Recall: 0.9896\t\t% F1_score: 0.9845\n",
      "shops\n",
      "\tAccuracy: 0.9960\t\t% Precision: 0.9921\t\t% Recall: 0.9960\t\t% F1_score: 0.9941\n",
      "aid_centers\n",
      "\tAccuracy: 0.9863\t\t% Precision: 0.9736\t\t% Recall: 0.9863\t\t% F1_score: 0.9799\n",
      "other_infrastructure\n",
      "\tAccuracy: 0.9536\t\t% Precision: 0.9100\t\t% Recall: 0.9536\t\t% F1_score: 0.9313\n",
      "weather_related\n",
      "\tAccuracy: 0.8850\t\t% Precision: 0.8827\t\t% Recall: 0.8850\t\t% F1_score: 0.8820\n",
      "floods\n",
      "\tAccuracy: 0.9391\t\t% Precision: 0.9368\t\t% Recall: 0.9391\t\t% F1_score: 0.9251\n",
      "storm\n",
      "\tAccuracy: 0.9350\t\t% Precision: 0.9277\t\t% Recall: 0.9350\t\t% F1_score: 0.9264\n",
      "fire\n",
      "\tAccuracy: 0.9878\t\t% Precision: 0.9757\t\t% Recall: 0.9878\t\t% F1_score: 0.9817\n",
      "earthquake\n",
      "\tAccuracy: 0.9667\t\t% Precision: 0.9655\t\t% Recall: 0.9667\t\t% F1_score: 0.9648\n",
      "cold\n",
      "\tAccuracy: 0.9799\t\t% Precision: 0.9711\t\t% Recall: 0.9799\t\t% F1_score: 0.9716\n",
      "other_weather\n",
      "\tAccuracy: 0.9492\t\t% Precision: 0.9330\t\t% Recall: 0.9492\t\t% F1_score: 0.9256\n",
      "direct_report\n",
      "\tAccuracy: 0.8637\t\t% Precision: 0.8533\t\t% Recall: 0.8637\t\t% F1_score: 0.8478\n"
     ]
    },
    {
     "name": "stderr",
     "output_type": "stream",
     "text": [
      "/opt/conda/lib/python3.6/site-packages/sklearn/metrics/classification.py:1135: UndefinedMetricWarning: Precision is ill-defined and being set to 0.0 in labels with no predicted samples.\n",
      "  'precision', 'predicted', average, warn_for)\n",
      "/opt/conda/lib/python3.6/site-packages/sklearn/metrics/classification.py:1135: UndefinedMetricWarning: F-score is ill-defined and being set to 0.0 in labels with no predicted samples.\n",
      "  'precision', 'predicted', average, warn_for)\n"
     ]
    }
   ],
   "source": [
    "multioutput_classification_report(y_test, y_pred)"
   ]
  },
  {
   "cell_type": "markdown",
   "metadata": {},
   "source": [
    "### 8. Try improving your model further. Here are a few ideas:\n",
    "* try other machine learning algorithms\n",
    "* add other features besides the TF-IDF"
   ]
  },
  {
   "cell_type": "code",
   "execution_count": 18,
   "metadata": {},
   "outputs": [],
   "source": [
    "pipeline_ada = Pipeline([\n",
    "    ('vect', CountVectorizer(tokenizer=tokenize)),\n",
    "    ('tfidf', TfidfTransformer()),\n",
    "    ('clf', MultiOutputClassifier(\n",
    "        AdaBoostClassifier(base_estimator=DecisionTreeClassifier(max_depth=1, class_weight='balanced'))\n",
    "    ))\n",
    "])\n",
    "\n",
    "parameters_ada = {\n",
    "    'clf__estimator__learning_rate': [0.1, 0.3],\n",
    "    'clf__estimator__n_estimators': [100, 200]\n",
    "}\n",
    "\n",
    "cv_ada = GridSearchCV(estimator=pipeline_ada, param_grid=parameters_ada, cv=3, scoring='f1_weighted', verbose=3)"
   ]
  },
  {
   "cell_type": "code",
   "execution_count": 19,
   "metadata": {
    "scrolled": false
   },
   "outputs": [
    {
     "name": "stdout",
     "output_type": "stream",
     "text": [
      "Fitting 3 folds for each of 4 candidates, totalling 12 fits\n",
      "[CV] clf__estimator__learning_rate=0.1, clf__estimator__n_estimators=100 \n"
     ]
    },
    {
     "name": "stderr",
     "output_type": "stream",
     "text": [
      "/opt/conda/lib/python3.6/site-packages/sklearn/metrics/classification.py:1135: UndefinedMetricWarning: F-score is ill-defined and being set to 0.0 in labels with no predicted samples.\n",
      "  'precision', 'predicted', average, warn_for)\n",
      "/opt/conda/lib/python3.6/site-packages/sklearn/metrics/classification.py:1137: UndefinedMetricWarning: F-score is ill-defined and being set to 0.0 in labels with no true samples.\n",
      "  'recall', 'true', average, warn_for)\n"
     ]
    },
    {
     "name": "stdout",
     "output_type": "stream",
     "text": [
      "[CV]  clf__estimator__learning_rate=0.1, clf__estimator__n_estimators=100, score=0.6098824513314661, total= 3.8min\n",
      "[CV] clf__estimator__learning_rate=0.1, clf__estimator__n_estimators=100 \n"
     ]
    },
    {
     "name": "stderr",
     "output_type": "stream",
     "text": [
      "[Parallel(n_jobs=1)]: Done   1 out of   1 | elapsed:  5.2min remaining:    0.0s\n",
      "/opt/conda/lib/python3.6/site-packages/sklearn/metrics/classification.py:1135: UndefinedMetricWarning: F-score is ill-defined and being set to 0.0 in labels with no predicted samples.\n",
      "  'precision', 'predicted', average, warn_for)\n",
      "/opt/conda/lib/python3.6/site-packages/sklearn/metrics/classification.py:1137: UndefinedMetricWarning: F-score is ill-defined and being set to 0.0 in labels with no true samples.\n",
      "  'recall', 'true', average, warn_for)\n"
     ]
    },
    {
     "name": "stdout",
     "output_type": "stream",
     "text": [
      "[CV]  clf__estimator__learning_rate=0.1, clf__estimator__n_estimators=100, score=0.610312616114416, total= 3.9min\n",
      "[CV] clf__estimator__learning_rate=0.1, clf__estimator__n_estimators=100 \n"
     ]
    },
    {
     "name": "stderr",
     "output_type": "stream",
     "text": [
      "[Parallel(n_jobs=1)]: Done   2 out of   2 | elapsed: 10.4min remaining:    0.0s\n",
      "/opt/conda/lib/python3.6/site-packages/sklearn/metrics/classification.py:1135: UndefinedMetricWarning: F-score is ill-defined and being set to 0.0 in labels with no predicted samples.\n",
      "  'precision', 'predicted', average, warn_for)\n",
      "/opt/conda/lib/python3.6/site-packages/sklearn/metrics/classification.py:1137: UndefinedMetricWarning: F-score is ill-defined and being set to 0.0 in labels with no true samples.\n",
      "  'recall', 'true', average, warn_for)\n"
     ]
    },
    {
     "name": "stdout",
     "output_type": "stream",
     "text": [
      "[CV]  clf__estimator__learning_rate=0.1, clf__estimator__n_estimators=100, score=0.6057716691033361, total= 3.9min\n",
      "[CV] clf__estimator__learning_rate=0.1, clf__estimator__n_estimators=200 \n"
     ]
    },
    {
     "name": "stderr",
     "output_type": "stream",
     "text": [
      "/opt/conda/lib/python3.6/site-packages/sklearn/metrics/classification.py:1135: UndefinedMetricWarning: F-score is ill-defined and being set to 0.0 in labels with no predicted samples.\n",
      "  'precision', 'predicted', average, warn_for)\n",
      "/opt/conda/lib/python3.6/site-packages/sklearn/metrics/classification.py:1137: UndefinedMetricWarning: F-score is ill-defined and being set to 0.0 in labels with no true samples.\n",
      "  'recall', 'true', average, warn_for)\n"
     ]
    },
    {
     "name": "stdout",
     "output_type": "stream",
     "text": [
      "[CV]  clf__estimator__learning_rate=0.1, clf__estimator__n_estimators=200, score=0.6243810943839812, total= 6.0min\n",
      "[CV] clf__estimator__learning_rate=0.1, clf__estimator__n_estimators=200 \n"
     ]
    },
    {
     "name": "stderr",
     "output_type": "stream",
     "text": [
      "/opt/conda/lib/python3.6/site-packages/sklearn/metrics/classification.py:1135: UndefinedMetricWarning: F-score is ill-defined and being set to 0.0 in labels with no predicted samples.\n",
      "  'precision', 'predicted', average, warn_for)\n",
      "/opt/conda/lib/python3.6/site-packages/sklearn/metrics/classification.py:1137: UndefinedMetricWarning: F-score is ill-defined and being set to 0.0 in labels with no true samples.\n",
      "  'recall', 'true', average, warn_for)\n"
     ]
    },
    {
     "name": "stdout",
     "output_type": "stream",
     "text": [
      "[CV]  clf__estimator__learning_rate=0.1, clf__estimator__n_estimators=200, score=0.6227103514158638, total= 5.9min\n",
      "[CV] clf__estimator__learning_rate=0.1, clf__estimator__n_estimators=200 \n"
     ]
    },
    {
     "name": "stderr",
     "output_type": "stream",
     "text": [
      "/opt/conda/lib/python3.6/site-packages/sklearn/metrics/classification.py:1135: UndefinedMetricWarning: F-score is ill-defined and being set to 0.0 in labels with no predicted samples.\n",
      "  'precision', 'predicted', average, warn_for)\n",
      "/opt/conda/lib/python3.6/site-packages/sklearn/metrics/classification.py:1137: UndefinedMetricWarning: F-score is ill-defined and being set to 0.0 in labels with no true samples.\n",
      "  'recall', 'true', average, warn_for)\n"
     ]
    },
    {
     "name": "stdout",
     "output_type": "stream",
     "text": [
      "[CV]  clf__estimator__learning_rate=0.1, clf__estimator__n_estimators=200, score=0.6183475026450643, total= 5.9min\n",
      "[CV] clf__estimator__learning_rate=0.3, clf__estimator__n_estimators=100 \n"
     ]
    },
    {
     "name": "stderr",
     "output_type": "stream",
     "text": [
      "/opt/conda/lib/python3.6/site-packages/sklearn/metrics/classification.py:1135: UndefinedMetricWarning: F-score is ill-defined and being set to 0.0 in labels with no predicted samples.\n",
      "  'precision', 'predicted', average, warn_for)\n",
      "/opt/conda/lib/python3.6/site-packages/sklearn/metrics/classification.py:1137: UndefinedMetricWarning: F-score is ill-defined and being set to 0.0 in labels with no true samples.\n",
      "  'recall', 'true', average, warn_for)\n"
     ]
    },
    {
     "name": "stdout",
     "output_type": "stream",
     "text": [
      "[CV]  clf__estimator__learning_rate=0.3, clf__estimator__n_estimators=100, score=0.6269425922665877, total= 3.8min\n",
      "[CV] clf__estimator__learning_rate=0.3, clf__estimator__n_estimators=100 \n"
     ]
    },
    {
     "name": "stderr",
     "output_type": "stream",
     "text": [
      "/opt/conda/lib/python3.6/site-packages/sklearn/metrics/classification.py:1135: UndefinedMetricWarning: F-score is ill-defined and being set to 0.0 in labels with no predicted samples.\n",
      "  'precision', 'predicted', average, warn_for)\n",
      "/opt/conda/lib/python3.6/site-packages/sklearn/metrics/classification.py:1137: UndefinedMetricWarning: F-score is ill-defined and being set to 0.0 in labels with no true samples.\n",
      "  'recall', 'true', average, warn_for)\n"
     ]
    },
    {
     "name": "stdout",
     "output_type": "stream",
     "text": [
      "[CV]  clf__estimator__learning_rate=0.3, clf__estimator__n_estimators=100, score=0.6310619675454391, total= 3.8min\n",
      "[CV] clf__estimator__learning_rate=0.3, clf__estimator__n_estimators=100 \n"
     ]
    },
    {
     "name": "stderr",
     "output_type": "stream",
     "text": [
      "/opt/conda/lib/python3.6/site-packages/sklearn/metrics/classification.py:1135: UndefinedMetricWarning: F-score is ill-defined and being set to 0.0 in labels with no predicted samples.\n",
      "  'precision', 'predicted', average, warn_for)\n",
      "/opt/conda/lib/python3.6/site-packages/sklearn/metrics/classification.py:1137: UndefinedMetricWarning: F-score is ill-defined and being set to 0.0 in labels with no true samples.\n",
      "  'recall', 'true', average, warn_for)\n"
     ]
    },
    {
     "name": "stdout",
     "output_type": "stream",
     "text": [
      "[CV]  clf__estimator__learning_rate=0.3, clf__estimator__n_estimators=100, score=0.6214506356996695, total= 4.0min\n",
      "[CV] clf__estimator__learning_rate=0.3, clf__estimator__n_estimators=200 \n"
     ]
    },
    {
     "name": "stderr",
     "output_type": "stream",
     "text": [
      "/opt/conda/lib/python3.6/site-packages/sklearn/metrics/classification.py:1135: UndefinedMetricWarning: F-score is ill-defined and being set to 0.0 in labels with no predicted samples.\n",
      "  'precision', 'predicted', average, warn_for)\n",
      "/opt/conda/lib/python3.6/site-packages/sklearn/metrics/classification.py:1137: UndefinedMetricWarning: F-score is ill-defined and being set to 0.0 in labels with no true samples.\n",
      "  'recall', 'true', average, warn_for)\n"
     ]
    },
    {
     "name": "stdout",
     "output_type": "stream",
     "text": [
      "[CV]  clf__estimator__learning_rate=0.3, clf__estimator__n_estimators=200, score=0.6357695325794616, total= 6.9min\n",
      "[CV] clf__estimator__learning_rate=0.3, clf__estimator__n_estimators=200 \n"
     ]
    },
    {
     "name": "stderr",
     "output_type": "stream",
     "text": [
      "/opt/conda/lib/python3.6/site-packages/sklearn/metrics/classification.py:1135: UndefinedMetricWarning: F-score is ill-defined and being set to 0.0 in labels with no predicted samples.\n",
      "  'precision', 'predicted', average, warn_for)\n",
      "/opt/conda/lib/python3.6/site-packages/sklearn/metrics/classification.py:1137: UndefinedMetricWarning: F-score is ill-defined and being set to 0.0 in labels with no true samples.\n",
      "  'recall', 'true', average, warn_for)\n"
     ]
    },
    {
     "name": "stdout",
     "output_type": "stream",
     "text": [
      "[CV]  clf__estimator__learning_rate=0.3, clf__estimator__n_estimators=200, score=0.6362822047827656, total= 7.0min\n",
      "[CV] clf__estimator__learning_rate=0.3, clf__estimator__n_estimators=200 \n"
     ]
    },
    {
     "name": "stderr",
     "output_type": "stream",
     "text": [
      "/opt/conda/lib/python3.6/site-packages/sklearn/metrics/classification.py:1135: UndefinedMetricWarning: F-score is ill-defined and being set to 0.0 in labels with no predicted samples.\n",
      "  'precision', 'predicted', average, warn_for)\n",
      "/opt/conda/lib/python3.6/site-packages/sklearn/metrics/classification.py:1137: UndefinedMetricWarning: F-score is ill-defined and being set to 0.0 in labels with no true samples.\n",
      "  'recall', 'true', average, warn_for)\n"
     ]
    },
    {
     "name": "stdout",
     "output_type": "stream",
     "text": [
      "[CV]  clf__estimator__learning_rate=0.3, clf__estimator__n_estimators=200, score=0.6328597361770263, total= 7.0min\n"
     ]
    },
    {
     "name": "stderr",
     "output_type": "stream",
     "text": [
      "[Parallel(n_jobs=1)]: Done  12 out of  12 | elapsed: 79.3min finished\n"
     ]
    },
    {
     "data": {
      "text/plain": [
       "GridSearchCV(cv=3, error_score='raise',\n",
       "       estimator=Pipeline(memory=None,\n",
       "     steps=[('vect', CountVectorizer(analyzer='word', binary=False, decode_error='strict',\n",
       "        dtype=<class 'numpy.int64'>, encoding='utf-8', input='content',\n",
       "        lowercase=True, max_df=1.0, max_features=None, min_df=1,\n",
       "        ngram_range=(1, 1), preprocessor=None, stop_words=None,\n",
       "        strip...er='best'),\n",
       "          learning_rate=1.0, n_estimators=50, random_state=None),\n",
       "           n_jobs=1))]),\n",
       "       fit_params=None, iid=True, n_jobs=1,\n",
       "       param_grid={'clf__estimator__learning_rate': [0.1, 0.3], 'clf__estimator__n_estimators': [100, 200]},\n",
       "       pre_dispatch='2*n_jobs', refit=True, return_train_score='warn',\n",
       "       scoring='f1_weighted', verbose=3)"
      ]
     },
     "execution_count": 19,
     "metadata": {},
     "output_type": "execute_result"
    }
   ],
   "source": [
    "cv_ada.fit(X_train, y_train)"
   ]
  },
  {
   "cell_type": "code",
   "execution_count": 20,
   "metadata": {},
   "outputs": [
    {
     "data": {
      "text/plain": [
       "{'clf__estimator__learning_rate': 0.3, 'clf__estimator__n_estimators': 200}"
      ]
     },
     "execution_count": 20,
     "metadata": {},
     "output_type": "execute_result"
    }
   ],
   "source": [
    "# Best parameters set\n",
    "cv_ada.best_params_"
   ]
  },
  {
   "cell_type": "code",
   "execution_count": 21,
   "metadata": {},
   "outputs": [],
   "source": [
    "y_pred = cv_ada.predict(X_train)"
   ]
  },
  {
   "cell_type": "code",
   "execution_count": 22,
   "metadata": {},
   "outputs": [
    {
     "name": "stdout",
     "output_type": "stream",
     "text": [
      "related\n",
      "\tAccuracy: 0.7390\t\t% Precision: 0.8370\t\t% Recall: 0.7390\t\t% F1_score: 0.7586\n",
      "request\n",
      "\tAccuracy: 0.8689\t\t% Precision: 0.8884\t\t% Recall: 0.8689\t\t% F1_score: 0.8756\n",
      "offer\n",
      "\tAccuracy: 0.9612\t\t% Precision: 0.9958\t\t% Recall: 0.9612\t\t% F1_score: 0.9765\n",
      "aid_related\n",
      "\tAccuracy: 0.7849\t\t% Precision: 0.7837\t\t% Recall: 0.7849\t\t% F1_score: 0.7839\n",
      "medical_help\n",
      "\tAccuracy: 0.8930\t\t% Precision: 0.9281\t\t% Recall: 0.8930\t\t% F1_score: 0.9060\n",
      "medical_products\n",
      "\tAccuracy: 0.9013\t\t% Precision: 0.9541\t\t% Recall: 0.9013\t\t% F1_score: 0.9208\n",
      "search_and_rescue\n",
      "\tAccuracy: 0.8742\t\t% Precision: 0.9699\t\t% Recall: 0.8742\t\t% F1_score: 0.9122\n",
      "security\n",
      "\tAccuracy: 0.8787\t\t% Precision: 0.9806\t\t% Recall: 0.8787\t\t% F1_score: 0.9208\n",
      "military\n",
      "\tAccuracy: 0.9611\t\t% Precision: 0.9779\t\t% Recall: 0.9611\t\t% F1_score: 0.9670\n",
      "child_alone\n",
      "\tAccuracy: 1.0000\t\t% Precision: 1.0000\t\t% Recall: 1.0000\t\t% F1_score: 1.0000\n",
      "water\n",
      "\tAccuracy: 0.9495\t\t% Precision: 0.9656\t\t% Recall: 0.9495\t\t% F1_score: 0.9547\n",
      "food\n",
      "\tAccuracy: 0.9522\t\t% Precision: 0.9566\t\t% Recall: 0.9522\t\t% F1_score: 0.9538\n",
      "shelter\n",
      "\tAccuracy: 0.9371\t\t% Precision: 0.9504\t\t% Recall: 0.9371\t\t% F1_score: 0.9417\n",
      "clothing\n",
      "\tAccuracy: 0.9807\t\t% Precision: 0.9901\t\t% Recall: 0.9807\t\t% F1_score: 0.9840\n",
      "money\n",
      "\tAccuracy: 0.9516\t\t% Precision: 0.9808\t\t% Recall: 0.9516\t\t% F1_score: 0.9626\n",
      "missing_people\n",
      "\tAccuracy: 0.9424\t\t% Precision: 0.9891\t\t% Recall: 0.9424\t\t% F1_score: 0.9619\n",
      "refugees\n",
      "\tAccuracy: 0.9253\t\t% Precision: 0.9705\t\t% Recall: 0.9253\t\t% F1_score: 0.9425\n",
      "death\n",
      "\tAccuracy: 0.9542\t\t% Precision: 0.9701\t\t% Recall: 0.9542\t\t% F1_score: 0.9599\n",
      "other_aid\n",
      "\tAccuracy: 0.7855\t\t% Precision: 0.8637\t\t% Recall: 0.7855\t\t% F1_score: 0.8125\n",
      "infrastructure_related\n",
      "\tAccuracy: 0.8091\t\t% Precision: 0.9312\t\t% Recall: 0.8091\t\t% F1_score: 0.8533\n",
      "transport\n",
      "\tAccuracy: 0.8837\t\t% Precision: 0.9503\t\t% Recall: 0.8837\t\t% F1_score: 0.9093\n",
      "buildings\n",
      "\tAccuracy: 0.9240\t\t% Precision: 0.9591\t\t% Recall: 0.9240\t\t% F1_score: 0.9366\n",
      "electricity\n",
      "\tAccuracy: 0.9680\t\t% Precision: 0.9847\t\t% Recall: 0.9680\t\t% F1_score: 0.9742\n",
      "tools\n",
      "\tAccuracy: 0.9631\t\t% Precision: 0.9946\t\t% Recall: 0.9631\t\t% F1_score: 0.9765\n",
      "hospitals\n",
      "\tAccuracy: 0.9626\t\t% Precision: 0.9906\t\t% Recall: 0.9626\t\t% F1_score: 0.9739\n",
      "shops\n",
      "\tAccuracy: 0.9682\t\t% Precision: 0.9958\t\t% Recall: 0.9682\t\t% F1_score: 0.9802\n",
      "aid_centers\n",
      "\tAccuracy: 0.9424\t\t% Precision: 0.9897\t\t% Recall: 0.9424\t\t% F1_score: 0.9621\n",
      "other_infrastructure\n",
      "\tAccuracy: 0.8241\t\t% Precision: 0.9554\t\t% Recall: 0.8241\t\t% F1_score: 0.8733\n",
      "weather_related\n",
      "\tAccuracy: 0.8911\t\t% Precision: 0.8892\t\t% Recall: 0.8911\t\t% F1_score: 0.8896\n",
      "floods\n",
      "\tAccuracy: 0.9450\t\t% Precision: 0.9499\t\t% Recall: 0.9450\t\t% F1_score: 0.9470\n",
      "storm\n",
      "\tAccuracy: 0.9477\t\t% Precision: 0.9570\t\t% Recall: 0.9477\t\t% F1_score: 0.9508\n",
      "fire\n",
      "\tAccuracy: 0.9698\t\t% Precision: 0.9919\t\t% Recall: 0.9698\t\t% F1_score: 0.9785\n",
      "earthquake\n",
      "\tAccuracy: 0.9698\t\t% Precision: 0.9709\t\t% Recall: 0.9698\t\t% F1_score: 0.9702\n",
      "cold\n",
      "\tAccuracy: 0.9702\t\t% Precision: 0.9847\t\t% Recall: 0.9702\t\t% F1_score: 0.9756\n",
      "other_weather\n",
      "\tAccuracy: 0.8747\t\t% Precision: 0.9463\t\t% Recall: 0.8747\t\t% F1_score: 0.9016\n",
      "direct_report\n",
      "\tAccuracy: 0.8167\t\t% Precision: 0.8457\t\t% Recall: 0.8167\t\t% F1_score: 0.8267\n"
     ]
    }
   ],
   "source": [
    "multioutput_classification_report(y_train, y_pred)"
   ]
  },
  {
   "cell_type": "code",
   "execution_count": 23,
   "metadata": {},
   "outputs": [],
   "source": [
    "y_pred = cv_ada.predict(X_test)"
   ]
  },
  {
   "cell_type": "code",
   "execution_count": 24,
   "metadata": {},
   "outputs": [
    {
     "name": "stdout",
     "output_type": "stream",
     "text": [
      "related\n",
      "\tAccuracy: 0.7231\t\t% Precision: 0.8232\t\t% Recall: 0.7231\t\t% F1_score: 0.7443\n",
      "request\n",
      "\tAccuracy: 0.8488\t\t% Precision: 0.8755\t\t% Recall: 0.8488\t\t% F1_score: 0.8580\n",
      "offer\n",
      "\tAccuracy: 0.9529\t\t% Precision: 0.9931\t\t% Recall: 0.9529\t\t% F1_score: 0.9721\n",
      "aid_related\n",
      "\tAccuracy: 0.7678\t\t% Precision: 0.7665\t\t% Recall: 0.7678\t\t% F1_score: 0.7667\n",
      "medical_help\n",
      "\tAccuracy: 0.8897\t\t% Precision: 0.9244\t\t% Recall: 0.8897\t\t% F1_score: 0.9031\n",
      "medical_products\n",
      "\tAccuracy: 0.8941\t\t% Precision: 0.9422\t\t% Recall: 0.8941\t\t% F1_score: 0.9133\n",
      "search_and_rescue\n",
      "\tAccuracy: 0.8489\t\t% Precision: 0.9643\t\t% Recall: 0.8489\t\t% F1_score: 0.8983\n",
      "security\n",
      "\tAccuracy: 0.8422\t\t% Precision: 0.9730\t\t% Recall: 0.8422\t\t% F1_score: 0.9005\n",
      "military\n",
      "\tAccuracy: 0.9507\t\t% Precision: 0.9719\t\t% Recall: 0.9507\t\t% F1_score: 0.9589\n",
      "child_alone\n",
      "\tAccuracy: 1.0000\t\t% Precision: 1.0000\t\t% Recall: 1.0000\t\t% F1_score: 1.0000\n",
      "water\n",
      "\tAccuracy: 0.9471\t\t% Precision: 0.9636\t\t% Recall: 0.9471\t\t% F1_score: 0.9527\n",
      "food\n",
      "\tAccuracy: 0.9487\t\t% Precision: 0.9534\t\t% Recall: 0.9487\t\t% F1_score: 0.9505\n",
      "shelter\n",
      "\tAccuracy: 0.9229\t\t% Precision: 0.9387\t\t% Recall: 0.9229\t\t% F1_score: 0.9287\n",
      "clothing\n",
      "\tAccuracy: 0.9760\t\t% Precision: 0.9833\t\t% Recall: 0.9760\t\t% F1_score: 0.9791\n",
      "money\n",
      "\tAccuracy: 0.9448\t\t% Precision: 0.9758\t\t% Recall: 0.9448\t\t% F1_score: 0.9574\n",
      "missing_people\n",
      "\tAccuracy: 0.9291\t\t% Precision: 0.9825\t\t% Recall: 0.9291\t\t% F1_score: 0.9536\n",
      "refugees\n",
      "\tAccuracy: 0.9130\t\t% Precision: 0.9573\t\t% Recall: 0.9130\t\t% F1_score: 0.9311\n",
      "death\n",
      "\tAccuracy: 0.9483\t\t% Precision: 0.9615\t\t% Recall: 0.9483\t\t% F1_score: 0.9533\n",
      "other_aid\n",
      "\tAccuracy: 0.7507\t\t% Precision: 0.8346\t\t% Recall: 0.7507\t\t% F1_score: 0.7812\n",
      "infrastructure_related\n",
      "\tAccuracy: 0.7925\t\t% Precision: 0.9113\t\t% Recall: 0.7925\t\t% F1_score: 0.8378\n",
      "transport\n",
      "\tAccuracy: 0.8560\t\t% Precision: 0.9401\t\t% Recall: 0.8560\t\t% F1_score: 0.8911\n",
      "buildings\n",
      "\tAccuracy: 0.9132\t\t% Precision: 0.9529\t\t% Recall: 0.9132\t\t% F1_score: 0.9280\n",
      "electricity\n",
      "\tAccuracy: 0.9594\t\t% Precision: 0.9780\t\t% Recall: 0.9594\t\t% F1_score: 0.9670\n",
      "tools\n",
      "\tAccuracy: 0.9545\t\t% Precision: 0.9905\t\t% Recall: 0.9545\t\t% F1_score: 0.9718\n",
      "hospitals\n",
      "\tAccuracy: 0.9554\t\t% Precision: 0.9858\t\t% Recall: 0.9554\t\t% F1_score: 0.9690\n",
      "shops\n",
      "\tAccuracy: 0.9593\t\t% Precision: 0.9931\t\t% Recall: 0.9593\t\t% F1_score: 0.9755\n",
      "aid_centers\n",
      "\tAccuracy: 0.9294\t\t% Precision: 0.9799\t\t% Recall: 0.9294\t\t% F1_score: 0.9522\n",
      "other_infrastructure\n",
      "\tAccuracy: 0.8032\t\t% Precision: 0.9357\t\t% Recall: 0.8032\t\t% F1_score: 0.8563\n",
      "weather_related\n",
      "\tAccuracy: 0.8921\t\t% Precision: 0.8905\t\t% Recall: 0.8921\t\t% F1_score: 0.8910\n",
      "floods\n",
      "\tAccuracy: 0.9359\t\t% Precision: 0.9403\t\t% Recall: 0.9359\t\t% F1_score: 0.9378\n",
      "storm\n",
      "\tAccuracy: 0.9432\t\t% Precision: 0.9532\t\t% Recall: 0.9432\t\t% F1_score: 0.9467\n",
      "fire\n",
      "\tAccuracy: 0.9564\t\t% Precision: 0.9828\t\t% Recall: 0.9564\t\t% F1_score: 0.9682\n",
      "earthquake\n",
      "\tAccuracy: 0.9727\t\t% Precision: 0.9735\t\t% Recall: 0.9727\t\t% F1_score: 0.9730\n",
      "cold\n",
      "\tAccuracy: 0.9637\t\t% Precision: 0.9812\t\t% Recall: 0.9637\t\t% F1_score: 0.9706\n",
      "other_weather\n",
      "\tAccuracy: 0.8599\t\t% Precision: 0.9369\t\t% Recall: 0.8599\t\t% F1_score: 0.8906\n",
      "direct_report\n",
      "\tAccuracy: 0.8016\t\t% Precision: 0.8402\t\t% Recall: 0.8016\t\t% F1_score: 0.8146\n"
     ]
    }
   ],
   "source": [
    "multioutput_classification_report(y_test, y_pred)"
   ]
  },
  {
   "cell_type": "markdown",
   "metadata": {},
   "source": [
    "### 9. Export your model as a pickle file"
   ]
  },
  {
   "cell_type": "code",
   "execution_count": 25,
   "metadata": {},
   "outputs": [],
   "source": [
    "with open('adaboost_cv.pkl', 'wb') as file:\n",
    "    pickle.dump(cv_ada, file)"
   ]
  },
  {
   "cell_type": "markdown",
   "metadata": {},
   "source": [
    "### 10. Use this notebook to complete `train.py`\n",
    "Use the template file attached in the Resources folder to write a script that runs the steps above to create a database and export a model based on a new dataset specified by the user."
   ]
  },
  {
   "cell_type": "code",
   "execution_count": null,
   "metadata": {},
   "outputs": [],
   "source": []
  }
 ],
 "metadata": {
  "kernelspec": {
   "display_name": "Python 3",
   "language": "python",
   "name": "python3"
  },
  "language_info": {
   "codemirror_mode": {
    "name": "ipython",
    "version": 3
   },
   "file_extension": ".py",
   "mimetype": "text/x-python",
   "name": "python",
   "nbconvert_exporter": "python",
   "pygments_lexer": "ipython3",
   "version": "3.6.3"
  }
 },
 "nbformat": 4,
 "nbformat_minor": 2
}
